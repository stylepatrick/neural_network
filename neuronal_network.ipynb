{
 "cells": [
  {
   "cell_type": "code",
   "execution_count": 32,
   "id": "47b2651e",
   "metadata": {},
   "outputs": [],
   "source": [
    "import numpy\n",
    "import scipy.special\n",
    "\n",
    "class neuralNetwork:\n",
    "    \n",
    "    def __init__(self, inputnodes, hiddennodes, outputnodes, learningrate):\n",
    "        self.innodes = inputnodes\n",
    "        self.hidnodes = hiddennodes\n",
    "        self.outnodes = outputnodes\n",
    "        self.learn = learningrate\n",
    "        \n",
    "        # Matrix calculation with numpy to generate random weights\n",
    "        \n",
    "        # Weights between input and hidden layer\n",
    "        self.wih = numpy.random.normal(0.0, pow(self.hidnodes, -0.5), (self.hidnodes, self.innodes))\n",
    "        \n",
    "        # Weights between hidden and output layer\n",
    "        self.who = numpy.random.normal(0.0, pow(self.outnodes, -0.5), (self.outnodes, self.hidnodes))\n",
    "        \n",
    "        # Lamda for sigmoid calculation\n",
    "        # Is used as activition function for nodes\n",
    "        self.activation = lambda x: scipy.special.expit(x)\n",
    "        \n",
    "        \n",
    "    def query(self, input_list):\n",
    "        inputs = numpy.array(input_list, ndmin=2).T\n",
    "        \n",
    "        # numpy.dot() is doing the Matrix calculation of the weights\n",
    "        \n",
    "        # Calculation of hidden input and output\n",
    "        # Xhidden_input = Winput_hidden * I\n",
    "        hidden_inputs = numpy.dot(self.wih, inputs)\n",
    "        #Ohidden = sigmoid(Xhidden_input)\n",
    "        hidden_outputs = self.activation(hidden_inputs)\n",
    "        \n",
    "        # Calculation of final input and output\n",
    "        # Xfinal_input = Woutput_hidden * Ihidden_outputs\n",
    "        final_input = numpy.dot(self.who, hidden_inputs)\n",
    "        #Ooutput = sigmoid(Xfinal_input)\n",
    "        final_output = self.activation(final_input)\n",
    "        \n",
    "        return final_output\n",
    "    \n",
    "    \n",
    "    def train(self, input_list, target_list):\n",
    "        inputs = numpy.array(input_list, ndmin=2).T\n",
    "        outputs = numpy.array(target_list, ndmin=2).T\n",
    "        \n",
    "        # Calculation of hidden input and output\n",
    "        # Xhidden_input = Winput_hidden * I\n",
    "        hidden_inputs = numpy.dot(self.wih, inputs)\n",
    "        # Ohidden = sigmoid(Xhidden_input)\n",
    "        hidden_outputs = self.activation(hidden_inputs)\n",
    "        \n",
    "        # Calculation of final input and output\n",
    "        # Xfinal_input = Woutput_hidden * Ihidden_outputs\n",
    "        final_input = numpy.dot(self.who, hidden_inputs)\n",
    "        # Ooutput = sigmoid(Xfinal_input)\n",
    "        final_output = self.activation(final_input)\n",
    "        \n",
    "        # Oerror = (target - final_output)\n",
    "        output_error = outputs - final_output\n",
    "        # Herror = (output_error * weights_hidden)\n",
    "        hidden_errors = numpy.dot(self.who.T, output_error)\n",
    "        \n",
    "        # Update weights of who\n",
    "        # Wjk = learning_rate * sigmoid(Ok) *(1 - sigmoid(Ok)) * Ojt\n",
    "        self.who += self.learn * numpy.dot(output_error * final_output * (1 - final_output), numpy.transpose(hidden_outputs))\n",
    "\n",
    "        # Update weights of wih\n",
    "        self.wih += self.learn * numpy.dot(hidden_errors * hidden_outputs * (1 - hidden_outputs), numpy.transpose(inputs))\n",
    "        \n",
    "        "
   ]
  },
  {
   "cell_type": "code",
   "execution_count": 36,
   "id": "0b7277b1",
   "metadata": {},
   "outputs": [
    {
     "name": "stdout",
     "output_type": "stream",
     "text": [
      "[[0.52922737]\n",
      " [0.29948918]\n",
      " [0.4304187 ]]\n",
      "[[0.5329454 ]\n",
      " [0.30335071]\n",
      " [0.45216969]]\n"
     ]
    }
   ],
   "source": [
    "n = neuralNetwork(3,3,3,0.3)\n",
    "print(n.query([0.3,0.7,0.5]))\n",
    "\n",
    "n.train([0.3,0.7,0.5], [0.5,0.2,0.8])\n",
    "print(n.query([0.3,0.7,0.5]))"
   ]
  }
 ],
 "metadata": {
  "kernelspec": {
   "display_name": "Python 3 (ipykernel)",
   "language": "python",
   "name": "python3"
  },
  "language_info": {
   "codemirror_mode": {
    "name": "ipython",
    "version": 3
   },
   "file_extension": ".py",
   "mimetype": "text/x-python",
   "name": "python",
   "nbconvert_exporter": "python",
   "pygments_lexer": "ipython3",
   "version": "3.9.13"
  }
 },
 "nbformat": 4,
 "nbformat_minor": 5
}
