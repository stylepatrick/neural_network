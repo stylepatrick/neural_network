{
 "cells": [
  {
   "cell_type": "code",
   "execution_count": 1,
   "id": "be5567fd",
   "metadata": {},
   "outputs": [],
   "source": [
    "import pandas\n",
    "import matplotlib.pyplot as plt\n",
    "import torch\n",
    "import torch.nn as nn\n",
    "from torch.utils.data import Dataset\n",
    "\n",
    "\n",
    "class MinstDataset(Dataset):\n",
    "    \n",
    "    def __init__(self, csv_file):\n",
    "        self.data_df = pandas.read_csv(csv_file, header=None)\n",
    "        \n",
    "    def __len__(self):\n",
    "        return len(self.data_df)\n",
    "    \n",
    "    def __getitem__(self, index):\n",
    "        label = self.data_df.iloc[index, 0]\n",
    "        target = torch.zeros(10)\n",
    "        target[label] = 1.0\n",
    "        \n",
    "        image_values = torch.FloatTensor(self.data_df.iloc[index,1:].values) / 255.0\n",
    "        \n",
    "        return label, image_values, target\n",
    "    \n",
    "    def plot_image(self, index):\n",
    "        arr = self.data_df.iloc[index,1:].values.reshape(28,28)\n",
    "        plt.title(\"label = \" + str(self.data_df.iloc[index,0]))\n",
    "        plt.imshow(arr, interpolation='none', cmap='Blues')\n",
    "\n",
    "class Classifier(nn.Module):\n",
    "\n",
    "    def __init__(self):\n",
    "        super().__init__()\n",
    "        \n",
    "        # counter and accumulator for progress of training\n",
    "        self.counter = 0\n",
    "        self.progress = []\n",
    "        \n",
    "        # Init Neural Netowork model\n",
    "        self.model = nn.Sequential(\n",
    "                nn.Linear(784, 200),\n",
    "                nn.LeakyReLU(),\n",
    "                nn.LayerNorm(200),\n",
    "                nn.Linear(200, 10),\n",
    "                nn.Sigmoid()\n",
    "        )\n",
    "        \n",
    "        # Loss function\n",
    "        self.loss_function = nn.MSELoss()\n",
    "        \n",
    "        # Optimiser for backpropagation\n",
    "        self.optimiser = torch.optim.SGD(self.parameters(), lr=0.01)\n",
    "        \n",
    "    def forward(self, inputs):\n",
    "        return self.model(inputs)\n",
    "    \n",
    "    def train(self, inputs, targets):\n",
    "        outputs = self.forward(inputs)\n",
    "        loss = self.loss_function(outputs, targets)\n",
    "        \n",
    "        self.optimiser.zero_grad()\n",
    "        loss.backward()\n",
    "        self.optimiser.step()\n",
    "        \n",
    "        self.counter +=1\n",
    "        if (self.counter % 10 == 0):\n",
    "            self.progress.append(loss.item())\n",
    "            \n",
    "        if (self.counter % 10000 == 0):\n",
    "            print(\"Counter = \" + str(self.counter))\n",
    "\n",
    "    def plot_progress(self):\n",
    "        df = pandas.DataFrame(self.progress, columns=['loss'])\n",
    "        df.plot(ylim=(0, 1.0), figsize=(16,8), alpha=0.1, marker='.', grid=True, yticks=(0,0.25,0.5))"
   ]
  },
  {
   "cell_type": "code",
   "execution_count": null,
   "id": "4f7de168",
   "metadata": {},
   "outputs": [],
   "source": [
    "minst_dataset = MinstDataset('mnist_train_100.csv')\n",
    "minst_dataset.plot_image(0)"
   ]
  },
  {
   "cell_type": "code",
   "execution_count": null,
   "id": "049c5c1b",
   "metadata": {},
   "outputs": [],
   "source": [
    "# Create NN and train it with epochs\n",
    "%%time\n",
    "\n",
    "c = Classifier()\n",
    "\n",
    "epochs = 10\n",
    "\n",
    "for i in range(epochs):\n",
    "    print(\"epoch \" + str(i))\n",
    "    for label, image_data_tensor, target_tensor in minst_dataset:\n",
    "        c.train(image_data_tensor, target_tensor)"
   ]
  },
  {
   "cell_type": "code",
   "execution_count": null,
   "id": "1c781e81",
   "metadata": {},
   "outputs": [],
   "source": [
    "# Check loss function\n",
    "c.plot_progress()"
   ]
  },
  {
   "cell_type": "code",
   "execution_count": null,
   "id": "668de435",
   "metadata": {},
   "outputs": [],
   "source": [
    "mnist_test = MinstDataset('mnist_test_10.csv')\n",
    "mnist_test.plot_image(5)"
   ]
  },
  {
   "cell_type": "code",
   "execution_count": null,
   "id": "ffa5ea4b",
   "metadata": {},
   "outputs": [],
   "source": [
    "# test NN on training data\n",
    "score = 0\n",
    "items = 0\n",
    "for label, image_data_tensor, target_tensor in mnist_test:\n",
    "    answer = c.forward(image_data_tensor).detach().numpy()\n",
    "    if (answer.argmax() == label):\n",
    "        score += 1\n",
    "    items +=1\n",
    "    \n",
    "print(score, items, score/items)"
   ]
  }
 ],
 "metadata": {
  "kernelspec": {
   "display_name": "Python 3 (ipykernel)",
   "language": "python",
   "name": "python3"
  },
  "language_info": {
   "codemirror_mode": {
    "name": "ipython",
    "version": 3
   },
   "file_extension": ".py",
   "mimetype": "text/x-python",
   "name": "python",
   "nbconvert_exporter": "python",
   "pygments_lexer": "ipython3",
   "version": "3.9.13"
  }
 },
 "nbformat": 4,
 "nbformat_minor": 5
}
